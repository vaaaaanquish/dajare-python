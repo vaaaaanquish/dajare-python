{
 "cells": [
  {
   "cell_type": "code",
   "execution_count": 1,
   "metadata": {},
   "outputs": [
    {
     "name": "stdout",
     "output_type": "stream",
     "text": [
      "dajare_biwa_ne_jp.json        dajare_shuu_web.json\n",
      "dajare_jp.json                dajare_syuukaizyo_web.json\n",
      "dajare_kaishaseikatsu_jp.json dajarenavi_net.json\n",
      "dajare_net.json\n"
     ]
    }
   ],
   "source": [
    "!ls ../output/"
   ]
  },
  {
   "cell_type": "code",
   "execution_count": 2,
   "metadata": {},
   "outputs": [
    {
     "name": "stdout",
     "output_type": "stream",
     "text": [
      "dajare_shuu_web.json 1099\n",
      "dajare_syuukaizyo_web.json 275\n",
      "dajare_biwa_ne_jp.json 1070\n",
      "dajarenavi_net.json 272592\n",
      "dajare_net.json 832\n",
      "dajare_kaishaseikatsu_jp.json 2200\n",
      "dajare_jp.json 60889\n"
     ]
    }
   ],
   "source": [
    "import os\n",
    "import json\n",
    "\n",
    "data = []\n",
    "for x in os.listdir('../output/'):\n",
    "    if x.endswith('.json'):\n",
    "        with open(os.path.join('../output/', x), 'r') as f:\n",
    "            l = json.load(f)\n",
    "            print(x, len(l))\n",
    "            data += l"
   ]
  },
  {
   "cell_type": "code",
   "execution_count": 3,
   "metadata": {},
   "outputs": [
    {
     "data": {
      "text/plain": [
       "338957"
      ]
     },
     "execution_count": 3,
     "metadata": {},
     "output_type": "execute_result"
    }
   ],
   "source": [
    "len(data)"
   ]
  },
  {
   "cell_type": "code",
   "execution_count": 4,
   "metadata": {},
   "outputs": [
    {
     "data": {
      "text/plain": [
       "100483"
      ]
     },
     "execution_count": 4,
     "metadata": {},
     "output_type": "execute_result"
    }
   ],
   "source": [
    "len(set([x['text'] for x in data]))"
   ]
  },
  {
   "cell_type": "code",
   "execution_count": 5,
   "metadata": {},
   "outputs": [
    {
     "data": {
      "text/plain": [
       "{'text': 'アーカンソーはあかんそうだ',\n",
       " 'url': 'https://dajareshuu.web.fc2.com/',\n",
       " 'author': 'dajareshuu',\n",
       " 'author_link': 'dajareshuu.web.fc2.com',\n",
       " 'mean_score': 0.0,\n",
       " 'deviation_score': 0.0,\n",
       " 'category': [],\n",
       " 'tag': [{'link': 'dajareshuu.web.fc2.com', 'text': 'アーカンソー'}],\n",
       " 'eval_list': []}"
      ]
     },
     "execution_count": 5,
     "metadata": {},
     "output_type": "execute_result"
    }
   ],
   "source": [
    "data[0]"
   ]
  },
  {
   "cell_type": "code",
   "execution_count": null,
   "metadata": {},
   "outputs": [],
   "source": []
  }
 ],
 "metadata": {
  "kernelspec": {
   "display_name": "Python 3",
   "language": "python",
   "name": "python3"
  },
  "language_info": {
   "codemirror_mode": {
    "name": "ipython",
    "version": 3
   },
   "file_extension": ".py",
   "mimetype": "text/x-python",
   "name": "python",
   "nbconvert_exporter": "python",
   "pygments_lexer": "ipython3",
   "version": "3.6.8"
  }
 },
 "nbformat": 4,
 "nbformat_minor": 4
}
